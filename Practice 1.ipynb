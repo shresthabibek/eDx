{
 "cells": [
  {
   "cell_type": "code",
   "execution_count": 1,
   "metadata": {
    "collapsed": false
   },
   "outputs": [
    {
     "name": "stdout",
     "output_type": "stream",
     "text": [
      "What is your age: ?22\n"
     ]
    }
   ],
   "source": [
    "age = int(input(\"What is your age: ?\"))"
   ]
  },
  {
   "cell_type": "code",
   "execution_count": 2,
   "metadata": {
    "collapsed": false
   },
   "outputs": [
    {
     "name": "stdout",
     "output_type": "stream",
     "text": [
      "your age in days is 8030\n"
     ]
    }
   ],
   "source": [
    "print(\"your age in days is\",age*365)"
   ]
  },
  {
   "cell_type": "code",
   "execution_count": 3,
   "metadata": {
    "collapsed": false
   },
   "outputs": [
    {
     "name": "stdout",
     "output_type": "stream",
     "text": [
      "How old are you?:22\n",
      "You are 8030 days old\n"
     ]
    }
   ],
   "source": [
    "age = input(\"How old are you?:\")\n",
    "result = int(age) * 365\n",
    "print(\"You are\", result, \"days old\")"
   ]
  },
  {
   "cell_type": "code",
   "execution_count": 4,
   "metadata": {
    "collapsed": false
   },
   "outputs": [
    {
     "name": "stdout",
     "output_type": "stream",
     "text": [
      "Say integer:5\n",
      "-24\n"
     ]
    }
   ],
   "source": [
    "# Type your code here\n",
    "x = int(input(\"Say integer:\"))\n",
    "y = x**2 - 12*x + 11\n",
    "print(y)"
   ]
  },
  {
   "cell_type": "code",
   "execution_count": 5,
   "metadata": {
    "collapsed": false
   },
   "outputs": [
    {
     "name": "stdout",
     "output_type": "stream",
     "text": [
      "Enter first integer:5\n",
      "-24\n"
     ]
    }
   ],
   "source": [
    " \n",
    "################### Sample Solution ###################\n",
    "user_response = input(\"Enter first integer:\")\n",
    "x = int(user_response)\n",
    "y = x*x - 12*x + 11\n",
    "print(y)"
   ]
  },
  {
   "cell_type": "code",
   "execution_count": 9,
   "metadata": {
    "collapsed": false
   },
   "outputs": [
    {
     "name": "stdout",
     "output_type": "stream",
     "text": [
      "Guess a number from 1 to 7:5\n",
      "FRIDAY\n"
     ]
    }
   ],
   "source": [
    "# Type your code here\n",
    "x = int(input(\"Guess a number from 1 to 7:\"))\n",
    "if x == 1:\n",
    "      print (\"MONDAY\")\n",
    "elif x == 2:\n",
    "     print(\"TUESDAY\")\n",
    "elif x == 3:\n",
    "    print(\"WEDNESDAY\")\n",
    "elif x==4:\n",
    "    print(\"THURSDAY\")\n",
    "elif x== 5:\n",
    "    print(\"FRIDAY\")\n",
    "elif x== 6:\n",
    "    print(\"SATURDAY\")\n",
    "else:\n",
    "    print(\"SUNDAY\")"
   ]
  },
  {
   "cell_type": "code",
   "execution_count": 25,
   "metadata": {
    "collapsed": false
   },
   "outputs": [
    {
     "name": "stdout",
     "output_type": "stream",
     "text": [
      "Enter first integer:5\n",
      "FRIDAY\n"
     ]
    }
   ],
   "source": [
    "################### Sample Solution ###################\n",
    "user_response = int(input(\"Enter first integer:\"))\n",
    "index=int(user_response)\n",
    "days = [\"MONDAY\", \"TUESDAY\",\"WEDNESDAY\",\"THURSDAY\",\"FRIDAY\",\"SATURDAY\", \"SUNDAY\"]\n",
    "print(days[index-1])"
   ]
  },
  {
   "cell_type": "code",
   "execution_count": 32,
   "metadata": {
    "collapsed": false
   },
   "outputs": [],
   "source": [
    "# Type your code here\n",
    "sample_list = [2, 10, 3, 5]\n",
    "\n",
    "# Calculate and print mean"
   ]
  },
  {
   "cell_type": "code",
   "execution_count": 28,
   "metadata": {
    "collapsed": false
   },
   "outputs": [
    {
     "name": "stdout",
     "output_type": "stream",
     "text": [
      "5.0\n"
     ]
    }
   ],
   "source": [
    "################### Sample Solution ###################\n",
    "sample_list = [2, 10, 3, 5]\n",
    "average = (sample_list[0] +  sample_list[1] +  sample_list[2] +  sample_list[3]) / 4\n",
    "print(average)"
   ]
  },
  {
   "cell_type": "code",
   "execution_count": null,
   "metadata": {
    "collapsed": true
   },
   "outputs": [],
   "source": []
  },
  {
   "cell_type": "code",
   "execution_count": null,
   "metadata": {
    "collapsed": true
   },
   "outputs": [],
   "source": []
  },
  {
   "cell_type": "code",
   "execution_count": null,
   "metadata": {
    "collapsed": true
   },
   "outputs": [],
   "source": []
  }
 ],
 "metadata": {
  "kernelspec": {
   "display_name": "Python 3",
   "language": "python",
   "name": "python3"
  },
  "language_info": {
   "codemirror_mode": {
    "name": "ipython",
    "version": 3
   },
   "file_extension": ".py",
   "mimetype": "text/x-python",
   "name": "python",
   "nbconvert_exporter": "python",
   "pygments_lexer": "ipython3",
   "version": "3.6.0"
  }
 },
 "nbformat": 4,
 "nbformat_minor": 2
}
